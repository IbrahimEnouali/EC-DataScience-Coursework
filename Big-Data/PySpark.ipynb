{
  "nbformat": 4,
  "nbformat_minor": 0,
  "metadata": {
    "colab": {
      "provenance": [],
      "include_colab_link": true
    },
    "kernelspec": {
      "name": "python3",
      "display_name": "Python 3"
    },
    "language_info": {
      "name": "python"
    }
  },
  "cells": [
    {
      "cell_type": "markdown",
      "metadata": {
        "id": "view-in-github",
        "colab_type": "text"
      },
      "source": [
        "<a href=\"https://colab.research.google.com/github/IbrahimEnouali/EC-DataScience-Coursework/blob/main/Big-Data/PySpark.ipynb\" target=\"_parent\"><img src=\"https://colab.research.google.com/assets/colab-badge.svg\" alt=\"Open In Colab\"/></a>"
      ]
    },
    {
      "cell_type": "code",
      "execution_count": null,
      "metadata": {
        "colab": {
          "base_uri": "https://localhost:8080/"
        },
        "id": "-lFGP1B5IEq2",
        "outputId": "193dc079-bdde-43f9-9e9a-fe98c2576cd9"
      },
      "outputs": [
        {
          "output_type": "stream",
          "name": "stdout",
          "text": [
            "Mounted at /content/drive\n"
          ]
        }
      ],
      "source": [
        "from google.colab import drive\n",
        "drive.mount('/content/drive')"
      ]
    },
    {
      "cell_type": "code",
      "source": [
        "!pip install pyspark"
      ],
      "metadata": {
        "colab": {
          "base_uri": "https://localhost:8080/"
        },
        "id": "Y7Fnw0RoiDD7",
        "outputId": "ebd5571e-4f82-4cd3-a5e7-a01225cb6b16"
      },
      "execution_count": null,
      "outputs": [
        {
          "output_type": "stream",
          "name": "stdout",
          "text": [
            "Collecting pyspark\n",
            "  Downloading pyspark-3.5.0.tar.gz (316.9 MB)\n",
            "\u001b[2K     \u001b[90m━━━━━━━━━━━━━━━━━━━━━━━━━━━━━━━━━━━━━━━━\u001b[0m \u001b[32m316.9/316.9 MB\u001b[0m \u001b[31m4.5 MB/s\u001b[0m eta \u001b[36m0:00:00\u001b[0m\n",
            "\u001b[?25h  Preparing metadata (setup.py) ... \u001b[?25l\u001b[?25hdone\n",
            "Requirement already satisfied: py4j==0.10.9.7 in /usr/local/lib/python3.10/dist-packages (from pyspark) (0.10.9.7)\n",
            "Building wheels for collected packages: pyspark\n",
            "  Building wheel for pyspark (setup.py) ... \u001b[?25l\u001b[?25hdone\n",
            "  Created wheel for pyspark: filename=pyspark-3.5.0-py2.py3-none-any.whl size=317425344 sha256=b9dd59459c4a965ea7cd67effa1ebf322c0d2003597bf32e3931db35baeeac93\n",
            "  Stored in directory: /root/.cache/pip/wheels/41/4e/10/c2cf2467f71c678cfc8a6b9ac9241e5e44a01940da8fbb17fc\n",
            "Successfully built pyspark\n",
            "Installing collected packages: pyspark\n",
            "Successfully installed pyspark-3.5.0\n"
          ]
        }
      ]
    },
    {
      "cell_type": "code",
      "source": [
        "from pyspark.sql import SparkSession\n",
        "from pyspark.sql import functions as F"
      ],
      "metadata": {
        "id": "HgOoEowgQIM0"
      },
      "execution_count": null,
      "outputs": []
    },
    {
      "cell_type": "code",
      "source": [
        "#Start spark session\n",
        "spark = SparkSession.builder.appName(\"TP_spark\").getOrCreate()"
      ],
      "metadata": {
        "id": "HSvtcMiKiSUl"
      },
      "execution_count": null,
      "outputs": []
    },
    {
      "cell_type": "code",
      "source": [
        "directory_path = '/content/drive/MyDrive/Datalake/01_RawData/'\n",
        "df = spark.read.csv(directory_path + \"valeursfoncieres-*.txt\", header=True, sep=\"|\")"
      ],
      "metadata": {
        "id": "hAcmazPuk1CD"
      },
      "execution_count": null,
      "outputs": []
    },
    {
      "cell_type": "code",
      "source": [
        "df.printSchema()"
      ],
      "metadata": {
        "colab": {
          "base_uri": "https://localhost:8080/"
        },
        "id": "bPA-GjfJ5p8a",
        "outputId": "c0fbc5c7-7719-43e6-923a-ff550e892dc0"
      },
      "execution_count": null,
      "outputs": [
        {
          "output_type": "stream",
          "name": "stdout",
          "text": [
            "root\n",
            " |-- Identifiant de document: string (nullable = true)\n",
            " |-- Reference document: string (nullable = true)\n",
            " |-- 1 Articles CGI: string (nullable = true)\n",
            " |-- 2 Articles CGI: string (nullable = true)\n",
            " |-- 3 Articles CGI: string (nullable = true)\n",
            " |-- 4 Articles CGI: string (nullable = true)\n",
            " |-- 5 Articles CGI: string (nullable = true)\n",
            " |-- No disposition: string (nullable = true)\n",
            " |-- Date mutation: string (nullable = true)\n",
            " |-- Nature mutation: string (nullable = true)\n",
            " |-- Valeur fonciere: string (nullable = true)\n",
            " |-- No voie: string (nullable = true)\n",
            " |-- B/T/Q: string (nullable = true)\n",
            " |-- Type de voie: string (nullable = true)\n",
            " |-- Code voie: string (nullable = true)\n",
            " |-- Voie: string (nullable = true)\n",
            " |-- Code postal: string (nullable = true)\n",
            " |-- Commune: string (nullable = true)\n",
            " |-- Code departement: string (nullable = true)\n",
            " |-- Code commune: string (nullable = true)\n",
            " |-- Prefixe de section: string (nullable = true)\n",
            " |-- Section: string (nullable = true)\n",
            " |-- No plan: string (nullable = true)\n",
            " |-- No Volume: string (nullable = true)\n",
            " |-- 1er lot: string (nullable = true)\n",
            " |-- Surface Carrez du 1er lot: string (nullable = true)\n",
            " |-- 2eme lot: string (nullable = true)\n",
            " |-- Surface Carrez du 2eme lot: string (nullable = true)\n",
            " |-- 3eme lot: string (nullable = true)\n",
            " |-- Surface Carrez du 3eme lot: string (nullable = true)\n",
            " |-- 4eme lot: string (nullable = true)\n",
            " |-- Surface Carrez du 4eme lot: string (nullable = true)\n",
            " |-- 5eme lot: string (nullable = true)\n",
            " |-- Surface Carrez du 5eme lot: string (nullable = true)\n",
            " |-- Nombre de lots: string (nullable = true)\n",
            " |-- Code type local: string (nullable = true)\n",
            " |-- Type local: string (nullable = true)\n",
            " |-- Identifiant local: string (nullable = true)\n",
            " |-- Surface reelle bati: string (nullable = true)\n",
            " |-- Nombre pieces principales: string (nullable = true)\n",
            " |-- Nature culture: string (nullable = true)\n",
            " |-- Nature culture speciale: string (nullable = true)\n",
            " |-- Surface terrain: string (nullable = true)\n",
            "\n"
          ]
        }
      ]
    },
    {
      "cell_type": "code",
      "source": [
        "#Select only variables needed\n",
        "new_df = df.select(['Date mutation', 'Valeur fonciere', 'Type local'])"
      ],
      "metadata": {
        "id": "ko6G3i4aO39I"
      },
      "execution_count": null,
      "outputs": []
    },
    {
      "cell_type": "code",
      "source": [
        "# Convert the 'Date mutation' column to a real date\n",
        "new_df = new_df.withColumn(\"Date mutation\", F.to_date(new_df[\"Date mutation\"], \"dd/MM/yyyy\"))"
      ],
      "metadata": {
        "id": "clZiIwoOQEGT"
      },
      "execution_count": null,
      "outputs": []
    },
    {
      "cell_type": "code",
      "source": [
        "# Extract the year from the date and put it in a column called Year\n",
        "new_df = new_df.withColumn(\"Year\", F.year(new_df[\"Date mutation\"]))"
      ],
      "metadata": {
        "id": "9AHgbinGQVqT"
      },
      "execution_count": null,
      "outputs": []
    },
    {
      "cell_type": "code",
      "source": [
        "#Drop Date mutation\n",
        "new_df = new_df.drop('Date mutation')"
      ],
      "metadata": {
        "id": "V1rk4xd7QvwR"
      },
      "execution_count": null,
      "outputs": []
    },
    {
      "cell_type": "code",
      "source": [
        "#Filter on Type local and let only Maison and Appartement\n",
        "new_df = new_df.filter((new_df['Type local']=='Maison')|(new_df['Type local']=='Appartement'))"
      ],
      "metadata": {
        "id": "JRcHKSzCRfJP"
      },
      "execution_count": null,
      "outputs": []
    },
    {
      "cell_type": "code",
      "source": [
        "#Remove null values in Valeur fonciere\n",
        "new_df = new_df.na.drop(subset='Valeur fonciere')"
      ],
      "metadata": {
        "id": "6PLCPBmERIEb"
      },
      "execution_count": null,
      "outputs": []
    },
    {
      "cell_type": "code",
      "source": [
        "#Change Valeur fonciere data type from string to float\n",
        "new_df = new_df.withColumn('Valeur fonciere', F.regexp_replace('Valeur fonciere', ',', '.'))\n",
        "new_df = new_df.withColumn('Valeur fonciere', new_df['Valeur fonciere'].cast('float'))"
      ],
      "metadata": {
        "id": "Yxwo6lbGTnHv"
      },
      "execution_count": null,
      "outputs": []
    },
    {
      "cell_type": "code",
      "source": [
        "df_distribution = new_df.groupBy('Type local')\\\n",
        "                          .agg(F.count('Valeur fonciere').alias('Count'),\\\n",
        "                              F.avg('Valeur fonciere').alias('Mean'),\\\n",
        "                              F.stddev('Valeur fonciere').alias('Stddev'),\\\n",
        "                              F.min('Valeur fonciere').alias('Min'),\\\n",
        "                              F.max('Valeur fonciere').alias('Max'))"
      ],
      "metadata": {
        "id": "VLbpVmhqUo46"
      },
      "execution_count": null,
      "outputs": []
    },
    {
      "cell_type": "code",
      "source": [
        "df_distribution.show()"
      ],
      "metadata": {
        "colab": {
          "base_uri": "https://localhost:8080/"
        },
        "id": "kzbsrOMLYE7H",
        "outputId": "01ba74f4-8411-4417-bdda-2a82b3263995"
      },
      "execution_count": null,
      "outputs": [
        {
          "output_type": "stream",
          "name": "stdout",
          "text": [
            "+-----------+-------+-----------------+--------------------+----+----------+\n",
            "| Type local|  Count|             Mean|              Stddev| Min|       Max|\n",
            "+-----------+-------+-----------------+--------------------+----+----------+\n",
            "|Appartement|2545727|4456286.911539782|2.9547787403763246E7|0.15|6.062103E8|\n",
            "|     Maison|2998667|665314.3210680179|   8794170.569120314|0.15|   2.086E9|\n",
            "+-----------+-------+-----------------+--------------------+----+----------+\n",
            "\n"
          ]
        }
      ]
    },
    {
      "cell_type": "code",
      "source": [
        "#Filter out 2020 and 2021\n",
        "new_df_filtered = new_df.filter((new_df['Year']=='2019')|(new_df['Year']=='2022'))"
      ],
      "metadata": {
        "id": "nRrlAOwM4VaV"
      },
      "execution_count": null,
      "outputs": []
    },
    {
      "cell_type": "code",
      "source": [
        "pivoted_df = new_df_filtered\\\n",
        "              .groupBy(\"Year\")\\\n",
        "              .pivot(\"Type local\")\\\n",
        "              .sum(\"Valeur fonciere\")\\\n",
        "              .orderBy(\"Year\")"
      ],
      "metadata": {
        "id": "R5uE2F-piiuH"
      },
      "execution_count": null,
      "outputs": []
    },
    {
      "cell_type": "code",
      "source": [
        "pivoted_df.show()"
      ],
      "metadata": {
        "colab": {
          "base_uri": "https://localhost:8080/"
        },
        "id": "FpYV5Eg1ilfD",
        "outputId": "02410ed6-4adb-4a94-992c-5422f8f0ec86"
      },
      "execution_count": null,
      "outputs": [
        {
          "output_type": "stream",
          "name": "stdout",
          "text": [
            "+----+--------------------+--------------------+\n",
            "|Year|         Appartement|              Maison|\n",
            "+----+--------------------+--------------------+\n",
            "|2019|1.628899007611708...|4.870511850371363...|\n",
            "|2022|5.330347113940935E12|5.767673634423651E11|\n",
            "+----+--------------------+--------------------+\n",
            "\n"
          ]
        }
      ]
    },
    {
      "cell_type": "code",
      "source": [
        "import matplotlib.pyplot as plt\n",
        "pandas_df = pivoted_df.toPandas()\n",
        "pandas_df.plot(kind='bar', x='Year', y=['Appartement', 'Maison'])\n",
        "plt.xlabel('Year')\n",
        "plt.ylabel('Sum of Valeur fonciere')\n",
        "plt.title('Appartement and Maison comparison')\n",
        "plt.legend(title='Type local')\n",
        "plt.show()"
      ],
      "metadata": {
        "colab": {
          "base_uri": "https://localhost:8080/",
          "height": 493
        },
        "id": "W2ShTgn0vVc6",
        "outputId": "3f3e366a-651d-41b1-c95f-e31e2377e1f2"
      },
      "execution_count": null,
      "outputs": [
        {
          "output_type": "display_data",
          "data": {
            "text/plain": [
              "<Figure size 640x480 with 1 Axes>"
            ],
            "image/png": "[encoded data removed]"
          },
          "metadata": {}
        }
      ]
    }
  ]
}